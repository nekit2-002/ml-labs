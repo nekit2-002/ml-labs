{
 "cells": [
  {
   "cell_type": "markdown",
   "metadata": {},
   "source": [
    "# Косенко Никита М24-514\n",
    "## Лабораторная работа №3, вариант 6"
   ]
  },
  {
   "cell_type": "code",
   "execution_count": 1,
   "metadata": {},
   "outputs": [],
   "source": [
    "import pandas as pd\n",
    "import numpy as np\n",
    "import matplotlib.pyplot as plt"
   ]
  },
  {
   "cell_type": "markdown",
   "metadata": {},
   "source": [
    "Подключаем данные"
   ]
  },
  {
   "cell_type": "code",
   "execution_count": 2,
   "metadata": {},
   "outputs": [
    {
     "data": {
      "text/html": [
       "<div>\n",
       "<style scoped>\n",
       "    .dataframe tbody tr th:only-of-type {\n",
       "        vertical-align: middle;\n",
       "    }\n",
       "\n",
       "    .dataframe tbody tr th {\n",
       "        vertical-align: top;\n",
       "    }\n",
       "\n",
       "    .dataframe thead th {\n",
       "        text-align: right;\n",
       "    }\n",
       "</style>\n",
       "<table border=\"1\" class=\"dataframe\">\n",
       "  <thead>\n",
       "    <tr style=\"text-align: right;\">\n",
       "      <th></th>\n",
       "      <th>x</th>\n",
       "      <th>y</th>\n",
       "    </tr>\n",
       "  </thead>\n",
       "  <tbody>\n",
       "    <tr>\n",
       "      <th>0</th>\n",
       "      <td>-0.60604</td>\n",
       "      <td>-1.179300</td>\n",
       "    </tr>\n",
       "    <tr>\n",
       "      <th>1</th>\n",
       "      <td>-0.35888</td>\n",
       "      <td>-2.347900</td>\n",
       "    </tr>\n",
       "    <tr>\n",
       "      <th>2</th>\n",
       "      <td>-2.05920</td>\n",
       "      <td>1.811500</td>\n",
       "    </tr>\n",
       "    <tr>\n",
       "      <th>3</th>\n",
       "      <td>-1.04380</td>\n",
       "      <td>1.678300</td>\n",
       "    </tr>\n",
       "    <tr>\n",
       "      <th>4</th>\n",
       "      <td>-1.11560</td>\n",
       "      <td>-0.018185</td>\n",
       "    </tr>\n",
       "    <tr>\n",
       "      <th>...</th>\n",
       "      <td>...</td>\n",
       "      <td>...</td>\n",
       "    </tr>\n",
       "    <tr>\n",
       "      <th>295</th>\n",
       "      <td>-2.53810</td>\n",
       "      <td>4.285800</td>\n",
       "    </tr>\n",
       "    <tr>\n",
       "      <th>296</th>\n",
       "      <td>-0.15471</td>\n",
       "      <td>-0.455390</td>\n",
       "    </tr>\n",
       "    <tr>\n",
       "      <th>297</th>\n",
       "      <td>2.01020</td>\n",
       "      <td>-1.383500</td>\n",
       "    </tr>\n",
       "    <tr>\n",
       "      <th>298</th>\n",
       "      <td>-0.18364</td>\n",
       "      <td>2.537300</td>\n",
       "    </tr>\n",
       "    <tr>\n",
       "      <th>299</th>\n",
       "      <td>-0.51738</td>\n",
       "      <td>-0.779240</td>\n",
       "    </tr>\n",
       "  </tbody>\n",
       "</table>\n",
       "<p>300 rows × 2 columns</p>\n",
       "</div>"
      ],
      "text/plain": [
       "           x         y\n",
       "0   -0.60604 -1.179300\n",
       "1   -0.35888 -2.347900\n",
       "2   -2.05920  1.811500\n",
       "3   -1.04380  1.678300\n",
       "4   -1.11560 -0.018185\n",
       "..       ...       ...\n",
       "295 -2.53810  4.285800\n",
       "296 -0.15471 -0.455390\n",
       "297  2.01020 -1.383500\n",
       "298 -0.18364  2.537300\n",
       "299 -0.51738 -0.779240\n",
       "\n",
       "[300 rows x 2 columns]"
      ]
     },
     "execution_count": 2,
     "metadata": {},
     "output_type": "execute_result"
    }
   ],
   "source": [
    "data = pd.read_csv('data_ml_v3-06.csv')\n",
    "X = data['x']\n",
    "y = data['y']\n",
    "\n",
    "data"
   ]
  },
  {
   "cell_type": "markdown",
   "metadata": {},
   "source": [
    "### Задание 1\n",
    "Построить регрессограммы для различного числа интервалов группировки:\n",
    "\n",
    "а) 3\n",
    "\n",
    "б) 10\n",
    "\n",
    "в) 50\n",
    "\n",
    "Построить график зависимости MSE непараметрической регрессии на обучающей, \n",
    "валидационной и тестовой выборках от числа интервалов группировки. Разбиение на обучающую, валидационную и тестовую выборки – holdout в отношении 60/30/10."
   ]
  },
  {
   "cell_type": "code",
   "execution_count": null,
   "metadata": {},
   "outputs": [],
   "source": []
  },
  {
   "cell_type": "markdown",
   "metadata": {},
   "source": [
    "### Задание 2\n",
    "Построить графики зависимости MSE ядерной регрессии на обучающей, валидационной и тестовой выборках от ширины окна для:\n",
    "\n",
    "а) прямоугольного окна\n",
    "\n",
    "б) гауссова окна\n",
    "\n",
    "в) окна  Епанечникова\n",
    "\n",
    "г) треугольного окна\n",
    "\n",
    "Определить оптимальную ширину каждого окна. Оптимальные  значения гиперпараметров обучения определять по значению \n",
    "ошибки на валидационной выборке."
   ]
  },
  {
   "cell_type": "code",
   "execution_count": null,
   "metadata": {},
   "outputs": [],
   "source": []
  },
  {
   "cell_type": "markdown",
   "metadata": {},
   "source": [
    "### Задание 3\n",
    "Визуализировать графики ядерной функции регрессии, полученной с использованием каждого вида окна из задания 2.\n",
    "\n",
    "Ширину окна  задать:\n",
    "\n",
    "i)  равной  соответствующему  оптимальному  значению,  полученному  в задании 2\n",
    "\n",
    "ii) значению, меньшему оптимального\n",
    "\n",
    "iii) значению, большему оптимального "
   ]
  },
  {
   "cell_type": "code",
   "execution_count": null,
   "metadata": {},
   "outputs": [],
   "source": []
  },
  {
   "cell_type": "markdown",
   "metadata": {},
   "source": [
    "### Задание 4\n",
    "Построить  графики зависимости дисперсии и смещения регрессионной модели для \n",
    "нескольких фиксированных значений *x* от ширины окна для каждого вида окна из задания 2."
   ]
  },
  {
   "cell_type": "code",
   "execution_count": null,
   "metadata": {},
   "outputs": [],
   "source": []
  },
  {
   "cell_type": "markdown",
   "metadata": {},
   "source": [
    "### Задание 5\n",
    "Построить график зависимости MSE KNN-регрессии от числа ближайших соседей K на \n",
    "обучающей и тестовой выборках. Определить оптимальное число ближайших соседей и \n",
    "визуализировать  графики  KNN-регрессии для различных значений  K:\n",
    "\n",
    "а) равному оптимальному\n",
    "\n",
    "б) меньшего оптимального\n",
    "\n",
    "в) большего оптимального\n",
    "\n",
    "Оптимальные  значения гиперпараметров обучения  определять по значению ошибки на валидационной выборке."
   ]
  },
  {
   "cell_type": "code",
   "execution_count": null,
   "metadata": {},
   "outputs": [],
   "source": []
  },
  {
   "cell_type": "markdown",
   "metadata": {},
   "source": [
    "### Задание 6\n",
    "Сделать выводы о влиянии вида и ширины окна на качество ядерной регрессионной модели."
   ]
  }
 ],
 "metadata": {
  "kernelspec": {
   "display_name": "Python 3 (ipykernel)",
   "language": "python",
   "name": "python3"
  },
  "language_info": {
   "codemirror_mode": {
    "name": "ipython",
    "version": 3
   },
   "file_extension": ".py",
   "mimetype": "text/x-python",
   "name": "python",
   "nbconvert_exporter": "python",
   "pygments_lexer": "ipython3",
   "version": "3.13.2"
  }
 },
 "nbformat": 4,
 "nbformat_minor": 2
}
