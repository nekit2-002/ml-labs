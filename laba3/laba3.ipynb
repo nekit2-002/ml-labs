{
 "cells": [
  {
   "cell_type": "markdown",
   "metadata": {},
   "source": [
    "# Косенко Никита М24-514\n",
    "## Лабораторная работа №3, вариант 6"
   ]
  }
 ],
 "metadata": {
  "language_info": {
   "name": "python"
  }
 },
 "nbformat": 4,
 "nbformat_minor": 2
}
